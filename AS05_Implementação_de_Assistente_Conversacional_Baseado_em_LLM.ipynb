{
  "nbformat": 4,
  "nbformat_minor": 0,
  "metadata": {
    "colab": {
      "provenance": [],
      "gpuType": "T4",
      "authorship_tag": "ABX9TyO1ZMi/+RS+hDagwdZYFAnd",
      "include_colab_link": true
    },
    "kernelspec": {
      "name": "python3",
      "display_name": "Python 3"
    },
    "language_info": {
      "name": "python"
    },
    "accelerator": "GPU"
  },
  "cells": [
    {
      "cell_type": "markdown",
      "metadata": {
        "id": "view-in-github",
        "colab_type": "text"
      },
      "source": [
        "<a href=\"https://colab.research.google.com/github/Guilherme-Cosso/COREM/blob/main/AS05_Implementa%C3%A7%C3%A3o_de_Assistente_Conversacional_Baseado_em_LLM.ipynb\" target=\"_parent\"><img src=\"https://colab.research.google.com/assets/colab-badge.svg\" alt=\"Open In Colab\"/></a>"
      ]
    },
    {
      "cell_type": "markdown",
      "source": [
        "#AS05: Implementação de Assistente Conversacional Baseado em LLM\n",
        "##TAREFA\n",
        "Esta é a tarefa AS05: Implementação de Assistente Conversacional Baseado em LLM, uma atividade prática que estimula o aluno a absorver conceitos básicos de mineração e análise de texto.\n",
        "\n",
        "## Problema\n",
        "Implementar um assistente conversacional baseado em LLM que seja capaz de indexar vetores (embeddings textuais) de uma coleção de documentos PDF para posteriormente responder a perguntas feitas através de uma interfce de conversação."
      ],
      "metadata": {
        "id": "9dV-_AE1iDv0"
      }
    },
    {
      "cell_type": "code",
      "source": [],
      "metadata": {
        "id": "gBjDQdJdfAjZ"
      },
      "execution_count": null,
      "outputs": []
    },
    {
      "cell_type": "markdown",
      "source": [
        "### Instale tudo na sua maquina"
      ],
      "metadata": {
        "id": "tVs1yh80fA7B"
      }
    },
    {
      "cell_type": "code",
      "source": [
        "!pip install transformers"
      ],
      "metadata": {
        "id": "De74cr8-z1Pk"
      },
      "execution_count": null,
      "outputs": []
    },
    {
      "cell_type": "code",
      "source": [
        "pip install PyPDF2"
      ],
      "metadata": {
        "id": "bVVA7rXDPBbt"
      },
      "execution_count": null,
      "outputs": []
    },
    {
      "cell_type": "code",
      "source": [
        "pip install transformers"
      ],
      "metadata": {
        "id": "--QPtVpVu4S9"
      },
      "execution_count": null,
      "outputs": []
    },
    {
      "cell_type": "markdown",
      "source": [
        "### Pre-Implementação\n",
        "Desenvolvi um código para garantir a criação da pasta 'pdfs' em seu diretório local, visando evitar possíveis falhas. Todos os arquivos PDF presentes nessa pasta serão considerados durante a geração do modelo de conversação baseado em LLM.\n",
        "\n",
        "Para importar os PDFs gerados no modelo, sugiro duas abordagens:\n",
        "\n",
        "**Modelo 1: Criação manual da pasta 'pdfs':**\n",
        "\n",
        "Utilize o primeiro modelo, o qual apenas cria a pasta 'pdfs' no seu diretório local. Você poderá importar manualmente os arquivos a serem utilizados para o treinamento.\n",
        "\n",
        "**Modelo 2: Importação automática de arquivos:**\n",
        "\n",
        "Opte pelo segundo modelo, que permite importar quantos arquivos desejar. Esse modelo criará automaticamente a pasta 'pdfs' e a preencherá com os arquivos importados passados pelo usuario."
      ],
      "metadata": {
        "id": "8vM5hPcEivrN"
      }
    },
    {
      "cell_type": "code",
      "execution_count": null,
      "metadata": {
        "id": "nYFramYZh6cA"
      },
      "outputs": [],
      "source": [
        "#Modelo 1: Criação manual da pasta 'pdfs'\n",
        "import os\n",
        "nome_da_pasta = 'pdfs'\n",
        "# Verifica se a pasta não existe antes de criar para evitar erros\n",
        "if not os.path.exists(nome_da_pasta):\n",
        "    os.makedirs(nome_da_pasta)\n",
        "    print(f'A pasta \"{nome_da_pasta}\" foi criada.')\n",
        "else:\n",
        "    print(f'A pasta \"{nome_da_pasta}\" já existe.')"
      ]
    },
    {
      "cell_type": "code",
      "source": [
        "# Modelo 2: Importação automática de arquivos:\n",
        "from google.colab import files\n",
        "import shutil\n",
        "import os\n",
        "\n",
        "def import_Arq():\n",
        "  arquivos = os.listdir('/content')\n",
        "  nome_da_pasta = 'pdfs'\n",
        "  for arquivo in arquivos:\n",
        "      if arquivo.endswith('.pdf'):\n",
        "          if not os.path.exists(nome_da_pasta):\n",
        "              os.makedirs(nome_da_pasta)\n",
        "          shutil.move(os.path.join('/content', arquivo), os.path.join(nome_da_pasta, arquivo))\n",
        "\n",
        "entrada_usuario = '1'\n",
        "while entrada_usuario == '1':\n",
        "    upload = files.upload()  # Pede para o usuário fazer upload de um arquivo\n",
        "    # Pergunta se o usuário deseja inserir mais um arquivo\n",
        "    entrada_usuario = input(\"Deseja inserir mais um arquivo? \\n(1) Sim\\n(0) Não\\n\")\n",
        "    # Certifica-se de que a entrada é válida (1 ou 0)\n",
        "    while entrada_usuario not in ['0', '1']:\n",
        "        entrada_usuario = input(\"Por favor, escolha 1 para 'Sim' ou 0 para 'Não': \\n\")\n",
        "    if entrada_usuario == '0':\n",
        "        print(\"Preparendo o processo de inserção de arquivos.\")\n",
        "        import_Arq();"
      ],
      "metadata": {
        "colab": {
          "base_uri": "https://localhost:8080/",
          "height": 160
        },
        "id": "OcbRc0Sf0Zqm",
        "outputId": "a5759fb9-adf0-4fc2-9eaf-1522c23b65e0"
      },
      "execution_count": 12,
      "outputs": [
        {
          "output_type": "display_data",
          "data": {
            "text/plain": [
              "<IPython.core.display.HTML object>"
            ],
            "text/html": [
              "\n",
              "     <input type=\"file\" id=\"files-f647a1ce-f725-4225-830c-9a75fc73ccda\" name=\"files[]\" multiple disabled\n",
              "        style=\"border:none\" />\n",
              "     <output id=\"result-f647a1ce-f725-4225-830c-9a75fc73ccda\">\n",
              "      Upload widget is only available when the cell has been executed in the\n",
              "      current browser session. Please rerun this cell to enable.\n",
              "      </output>\n",
              "      <script>// Copyright 2017 Google LLC\n",
              "//\n",
              "// Licensed under the Apache License, Version 2.0 (the \"License\");\n",
              "// you may not use this file except in compliance with the License.\n",
              "// You may obtain a copy of the License at\n",
              "//\n",
              "//      http://www.apache.org/licenses/LICENSE-2.0\n",
              "//\n",
              "// Unless required by applicable law or agreed to in writing, software\n",
              "// distributed under the License is distributed on an \"AS IS\" BASIS,\n",
              "// WITHOUT WARRANTIES OR CONDITIONS OF ANY KIND, either express or implied.\n",
              "// See the License for the specific language governing permissions and\n",
              "// limitations under the License.\n",
              "\n",
              "/**\n",
              " * @fileoverview Helpers for google.colab Python module.\n",
              " */\n",
              "(function(scope) {\n",
              "function span(text, styleAttributes = {}) {\n",
              "  const element = document.createElement('span');\n",
              "  element.textContent = text;\n",
              "  for (const key of Object.keys(styleAttributes)) {\n",
              "    element.style[key] = styleAttributes[key];\n",
              "  }\n",
              "  return element;\n",
              "}\n",
              "\n",
              "// Max number of bytes which will be uploaded at a time.\n",
              "const MAX_PAYLOAD_SIZE = 100 * 1024;\n",
              "\n",
              "function _uploadFiles(inputId, outputId) {\n",
              "  const steps = uploadFilesStep(inputId, outputId);\n",
              "  const outputElement = document.getElementById(outputId);\n",
              "  // Cache steps on the outputElement to make it available for the next call\n",
              "  // to uploadFilesContinue from Python.\n",
              "  outputElement.steps = steps;\n",
              "\n",
              "  return _uploadFilesContinue(outputId);\n",
              "}\n",
              "\n",
              "// This is roughly an async generator (not supported in the browser yet),\n",
              "// where there are multiple asynchronous steps and the Python side is going\n",
              "// to poll for completion of each step.\n",
              "// This uses a Promise to block the python side on completion of each step,\n",
              "// then passes the result of the previous step as the input to the next step.\n",
              "function _uploadFilesContinue(outputId) {\n",
              "  const outputElement = document.getElementById(outputId);\n",
              "  const steps = outputElement.steps;\n",
              "\n",
              "  const next = steps.next(outputElement.lastPromiseValue);\n",
              "  return Promise.resolve(next.value.promise).then((value) => {\n",
              "    // Cache the last promise value to make it available to the next\n",
              "    // step of the generator.\n",
              "    outputElement.lastPromiseValue = value;\n",
              "    return next.value.response;\n",
              "  });\n",
              "}\n",
              "\n",
              "/**\n",
              " * Generator function which is called between each async step of the upload\n",
              " * process.\n",
              " * @param {string} inputId Element ID of the input file picker element.\n",
              " * @param {string} outputId Element ID of the output display.\n",
              " * @return {!Iterable<!Object>} Iterable of next steps.\n",
              " */\n",
              "function* uploadFilesStep(inputId, outputId) {\n",
              "  const inputElement = document.getElementById(inputId);\n",
              "  inputElement.disabled = false;\n",
              "\n",
              "  const outputElement = document.getElementById(outputId);\n",
              "  outputElement.innerHTML = '';\n",
              "\n",
              "  const pickedPromise = new Promise((resolve) => {\n",
              "    inputElement.addEventListener('change', (e) => {\n",
              "      resolve(e.target.files);\n",
              "    });\n",
              "  });\n",
              "\n",
              "  const cancel = document.createElement('button');\n",
              "  inputElement.parentElement.appendChild(cancel);\n",
              "  cancel.textContent = 'Cancel upload';\n",
              "  const cancelPromise = new Promise((resolve) => {\n",
              "    cancel.onclick = () => {\n",
              "      resolve(null);\n",
              "    };\n",
              "  });\n",
              "\n",
              "  // Wait for the user to pick the files.\n",
              "  const files = yield {\n",
              "    promise: Promise.race([pickedPromise, cancelPromise]),\n",
              "    response: {\n",
              "      action: 'starting',\n",
              "    }\n",
              "  };\n",
              "\n",
              "  cancel.remove();\n",
              "\n",
              "  // Disable the input element since further picks are not allowed.\n",
              "  inputElement.disabled = true;\n",
              "\n",
              "  if (!files) {\n",
              "    return {\n",
              "      response: {\n",
              "        action: 'complete',\n",
              "      }\n",
              "    };\n",
              "  }\n",
              "\n",
              "  for (const file of files) {\n",
              "    const li = document.createElement('li');\n",
              "    li.append(span(file.name, {fontWeight: 'bold'}));\n",
              "    li.append(span(\n",
              "        `(${file.type || 'n/a'}) - ${file.size} bytes, ` +\n",
              "        `last modified: ${\n",
              "            file.lastModifiedDate ? file.lastModifiedDate.toLocaleDateString() :\n",
              "                                    'n/a'} - `));\n",
              "    const percent = span('0% done');\n",
              "    li.appendChild(percent);\n",
              "\n",
              "    outputElement.appendChild(li);\n",
              "\n",
              "    const fileDataPromise = new Promise((resolve) => {\n",
              "      const reader = new FileReader();\n",
              "      reader.onload = (e) => {\n",
              "        resolve(e.target.result);\n",
              "      };\n",
              "      reader.readAsArrayBuffer(file);\n",
              "    });\n",
              "    // Wait for the data to be ready.\n",
              "    let fileData = yield {\n",
              "      promise: fileDataPromise,\n",
              "      response: {\n",
              "        action: 'continue',\n",
              "      }\n",
              "    };\n",
              "\n",
              "    // Use a chunked sending to avoid message size limits. See b/62115660.\n",
              "    let position = 0;\n",
              "    do {\n",
              "      const length = Math.min(fileData.byteLength - position, MAX_PAYLOAD_SIZE);\n",
              "      const chunk = new Uint8Array(fileData, position, length);\n",
              "      position += length;\n",
              "\n",
              "      const base64 = btoa(String.fromCharCode.apply(null, chunk));\n",
              "      yield {\n",
              "        response: {\n",
              "          action: 'append',\n",
              "          file: file.name,\n",
              "          data: base64,\n",
              "        },\n",
              "      };\n",
              "\n",
              "      let percentDone = fileData.byteLength === 0 ?\n",
              "          100 :\n",
              "          Math.round((position / fileData.byteLength) * 100);\n",
              "      percent.textContent = `${percentDone}% done`;\n",
              "\n",
              "    } while (position < fileData.byteLength);\n",
              "  }\n",
              "\n",
              "  // All done.\n",
              "  yield {\n",
              "    response: {\n",
              "      action: 'complete',\n",
              "    }\n",
              "  };\n",
              "}\n",
              "\n",
              "scope.google = scope.google || {};\n",
              "scope.google.colab = scope.google.colab || {};\n",
              "scope.google.colab._files = {\n",
              "  _uploadFiles,\n",
              "  _uploadFilesContinue,\n",
              "};\n",
              "})(self);\n",
              "</script> "
            ]
          },
          "metadata": {}
        },
        {
          "output_type": "stream",
          "name": "stdout",
          "text": [
            "Saving Platão-O-Político.pdf to Platão-O-Político.pdf\n",
            "Deseja inserir mais um arquivo? \n",
            "(1) Sim\n",
            "(0) Não\n",
            "0\n",
            "Preparendo o processo de inserção de arquivos.\n"
          ]
        }
      ]
    },
    {
      "cell_type": "markdown",
      "source": [
        "### Data base\n",
        "\n",
        "Agora que todos os arquivos ja foram inseridos iremos realizar uma leitura textual de todos que estão na pasta 'pdfs'.Normalizar os dados e colocalos no arquivo \"all.txt\".\n",
        "\n",
        "**Normalização**"
      ],
      "metadata": {
        "id": "D7-DDvi23ZlK"
      }
    },
    {
      "cell_type": "code",
      "source": [
        "import re\n",
        "def normalization(conteudo):\n",
        "  # Tirar numeros\n",
        "  conteudo = re.sub(r'-?\\d+(?:\\.\\d+)?', ' ', conteudo)\n",
        "  return conteudo;"
      ],
      "metadata": {
        "id": "5ARU_1SphePj"
      },
      "execution_count": 6,
      "outputs": []
    },
    {
      "cell_type": "markdown",
      "source": [
        "**Escrita em Arquivo**"
      ],
      "metadata": {
        "id": "s1uEHf_PiQ4M"
      }
    },
    {
      "cell_type": "code",
      "source": [
        "def write(conteudo, nome_arq):\n",
        "  # Nome do arquivo que você quer criar\n",
        "  nome_arquivo = nome_arq +'.txt'\n",
        "  with open(nome_arquivo, 'w') as arquivo:\n",
        "      arquivo.write(conteudo)"
      ],
      "metadata": {
        "id": "rCDUJkxUc2xf"
      },
      "execution_count": 7,
      "outputs": []
    },
    {
      "cell_type": "markdown",
      "source": [
        "**Leitura dos Pdfs**"
      ],
      "metadata": {
        "id": "jHFdLntdiXxa"
      }
    },
    {
      "cell_type": "code",
      "source": [
        "# Abre o arquivo PDF no modo leitura binária ('rb')\n",
        "import os\n",
        "import PyPDF2\n",
        "\n",
        "# Diretório onde estão os arquivos PDF\n",
        "diretorio_pdfs = '/content/pdfs/'\n",
        "text ='';\n",
        "# Percorre todos os arquivos na pasta pdfs\n",
        "for filename in os.listdir(diretorio_pdfs):\n",
        "    if filename.endswith('.pdf'):  # Verifica se é um arquivo PDF\n",
        "        file_path = os.path.join(diretorio_pdfs, filename)\n",
        "\n",
        "        # Abre o arquivo PDF no modo leitura binária ('rb')\n",
        "        with open(file_path, 'rb') as pdf_file:\n",
        "            # Cria um objeto PDF Reader\n",
        "            pdf_reader = PyPDF2.PdfReader(pdf_file)\n",
        "            # Extrai o texto de todas as páginas\n",
        "            for page_num in range(len(pdf_reader.pages)):\n",
        "                page = pdf_reader.pages[page_num]\n",
        "                text += page.extract_text()\n",
        "text = normalization(text)\n",
        "write(text, \"all\")"
      ],
      "metadata": {
        "id": "WG9t7ZqL3tl8"
      },
      "execution_count": 15,
      "outputs": []
    },
    {
      "cell_type": "markdown",
      "source": [
        "###Tokenização\n",
        "\n",
        "Realizamos a etapa de tokenizaçao on tokenizamos as palavras presentes no aquivo all.txt onde foi colacado todos os Pdf extraidos.\n"
      ],
      "metadata": {
        "id": "XhfYnWkEJ4XO"
      }
    },
    {
      "cell_type": "code",
      "source": [
        "from tokenizers import ByteLevelBPETokenizer\n",
        "PATH = './sample_data/'\n",
        "tokenizer = ByteLevelBPETokenizer()\n",
        "tokenizer.train(files=['all.txt'], vocab_size=52000, min_frequency=2, special_tokens=[\n",
        "    \"<s>\",\n",
        "    \"<pad>\",\n",
        "    \"</s>\",\n",
        "    \"<unk>\",\n",
        "    \"<mask>\"\n",
        "])\n",
        "if not os.path.exists(PATH+\"model\"):\n",
        "  os.makedirs(PATH+\"model\")\n",
        "tokenizer.save_model(PATH+\"model\")\n"
      ],
      "metadata": {
        "id": "4vl7UvmhQt7D"
      },
      "execution_count": null,
      "outputs": []
    },
    {
      "cell_type": "markdown",
      "source": [
        "### Configuração da Roberta\n",
        "\n",
        "Para garantir que os tokens gerados pelo ByteLevelBPETokenizer sejam utilizados corretamente pela RobertaTokenizer, verifique se os tokens seguem o formato esperado e utilize a função RobertaTokenizer.encode para converter os textos em sequências de IDs de token compatíveis com os modelos baseados na arquitetura ROBERTA."
      ],
      "metadata": {
        "id": "q1wFFoBHw3Uh"
      }
    },
    {
      "cell_type": "code",
      "source": [
        "from transformers import RobertaTokenizer\n",
        "tokenizer = RobertaTokenizer.from_pretrained(PATH+'model', max_len=512)"
      ],
      "metadata": {
        "id": "yx_1OtLRw1GC"
      },
      "execution_count": 19,
      "outputs": []
    },
    {
      "cell_type": "markdown",
      "source": [
        "**Configurações**"
      ],
      "metadata": {
        "id": "2_hrCo4gLSJm"
      }
    },
    {
      "cell_type": "code",
      "source": [
        "from transformers import RobertaConfig\n",
        "\n",
        "config = RobertaConfig(\n",
        "    vocab_size=52_000,\n",
        "    max_position_embeddings=512,\n",
        "    num_attention_heads=12,\n",
        "    num_hidden_layers=6,\n",
        "    type_vocab_size=1,\n",
        ")\n",
        "\n",
        "from transformers import RobertaForMaskedLM\n",
        "model = RobertaForMaskedLM(config=config)"
      ],
      "metadata": {
        "id": "RLtPiOPVx8qC"
      },
      "execution_count": 20,
      "outputs": []
    },
    {
      "cell_type": "markdown",
      "source": [
        "**Parametros da REDE NEURAL**"
      ],
      "metadata": {
        "id": "XEOEgIh3LXHP"
      }
    },
    {
      "cell_type": "code",
      "source": [
        "model.num_parameters()"
      ],
      "metadata": {
        "id": "wxyqn_J4yIAA"
      },
      "execution_count": null,
      "outputs": []
    },
    {
      "cell_type": "code",
      "source": [
        "#forma simples de se carregar um arquivo bruto como Dataset\n",
        "from transformers import LineByLineTextDataset\n",
        "dataset = LineByLineTextDataset(\n",
        "    tokenizer=tokenizer,\n",
        "    file_path=\"all.txt\",\n",
        "    block_size=128,\n",
        ")\n",
        ""
      ],
      "metadata": {
        "id": "1OoSxGnDyOhg"
      },
      "execution_count": 28,
      "outputs": []
    },
    {
      "cell_type": "code",
      "source": [
        "'''\n",
        "Data Collators são estratégias de se construir lotes de dados\n",
        "para treinar o modelo. Cria listas de amostras a partir do dataset e\n",
        "permite que o Pytorch aplique a backpropagation adequadamente.\n",
        "Probability = probabilidade de mascarar tokens da entrada\n",
        "'''\n",
        "from transformers import DataCollatorForLanguageModeling\n",
        "\n",
        "data_collator = DataCollatorForLanguageModeling(\n",
        "    tokenizer=tokenizer, mlm=True, mlm_probability=0.1\n",
        ")\n",
        ""
      ],
      "metadata": {
        "id": "IyMEd82FzIWz"
      },
      "execution_count": 24,
      "outputs": []
    },
    {
      "cell_type": "code",
      "source": [
        "from transformers import Trainer, TrainingArguments\n",
        "\n",
        "training_args = TrainingArguments(\n",
        "    output_dir=PATH+'model',\n",
        "    overwrite_output_dir=True,\n",
        "    num_train_epochs=1200,\n",
        "    per_device_train_batch_size=64,\n",
        "    save_steps=10_000,\n",
        "    save_total_limit=2,\n",
        "    prediction_loss_only=True,\n",
        ")\n",
        "\n",
        "trainer = Trainer(\n",
        "    model=model,\n",
        "    args=training_args,\n",
        "    data_collator=data_collator,\n",
        "    train_dataset=dataset,\n",
        ")"
      ],
      "metadata": {
        "id": "P5X48bDszz3J"
      },
      "execution_count": 25,
      "outputs": []
    },
    {
      "cell_type": "markdown",
      "source": [
        "**Treino e salvo o modelo**"
      ],
      "metadata": {
        "id": "eqWn3BaELrh9"
      }
    },
    {
      "cell_type": "code",
      "source": [
        "trainer.train()"
      ],
      "metadata": {
        "colab": {
          "base_uri": "https://localhost:8080/",
          "height": 410
        },
        "id": "0WwK04h_5fME",
        "outputId": "ee4551aa-1859-4a81-8393-ae48ca7c5d11"
      },
      "execution_count": 26,
      "outputs": [
        {
          "output_type": "display_data",
          "data": {
            "text/plain": [
              "<IPython.core.display.HTML object>"
            ],
            "text/html": [
              "\n",
              "    <div>\n",
              "      \n",
              "      <progress value='4800' max='4800' style='width:300px; height:20px; vertical-align: middle;'></progress>\n",
              "      [4800/4800 1:26:49, Epoch 1200/1200]\n",
              "    </div>\n",
              "    <table border=\"1\" class=\"dataframe\">\n",
              "  <thead>\n",
              " <tr style=\"text-align: left;\">\n",
              "      <th>Step</th>\n",
              "      <th>Training Loss</th>\n",
              "    </tr>\n",
              "  </thead>\n",
              "  <tbody>\n",
              "    <tr>\n",
              "      <td>500</td>\n",
              "      <td>6.563800</td>\n",
              "    </tr>\n",
              "    <tr>\n",
              "      <td>1000</td>\n",
              "      <td>5.263400</td>\n",
              "    </tr>\n",
              "    <tr>\n",
              "      <td>1500</td>\n",
              "      <td>4.273400</td>\n",
              "    </tr>\n",
              "    <tr>\n",
              "      <td>2000</td>\n",
              "      <td>3.286300</td>\n",
              "    </tr>\n",
              "    <tr>\n",
              "      <td>2500</td>\n",
              "      <td>2.433800</td>\n",
              "    </tr>\n",
              "    <tr>\n",
              "      <td>3000</td>\n",
              "      <td>1.761500</td>\n",
              "    </tr>\n",
              "    <tr>\n",
              "      <td>3500</td>\n",
              "      <td>1.274900</td>\n",
              "    </tr>\n",
              "    <tr>\n",
              "      <td>4000</td>\n",
              "      <td>0.951000</td>\n",
              "    </tr>\n",
              "    <tr>\n",
              "      <td>4500</td>\n",
              "      <td>0.774300</td>\n",
              "    </tr>\n",
              "  </tbody>\n",
              "</table><p>"
            ]
          },
          "metadata": {}
        },
        {
          "output_type": "execute_result",
          "data": {
            "text/plain": [
              "TrainOutput(global_step=4800, training_loss=2.8133798853556313, metrics={'train_runtime': 5211.2182, 'train_samples_per_second': 52.042, 'train_steps_per_second': 0.921, 'total_flos': 8992119855513600.0, 'train_loss': 2.8133798853556313, 'epoch': 1200.0})"
            ]
          },
          "metadata": {},
          "execution_count": 26
        }
      ]
    },
    {
      "cell_type": "code",
      "source": [
        "trainer.save_model(PATH+'model')"
      ],
      "metadata": {
        "id": "NOj4UmPFB2nz"
      },
      "execution_count": 27,
      "outputs": []
    },
    {
      "cell_type": "markdown",
      "source": [
        "**Testo ele**"
      ],
      "metadata": {
        "id": "VccD38pvL62V"
      }
    },
    {
      "cell_type": "code",
      "source": [
        "from transformers import pipeline\n",
        "\n",
        "fill_mask = pipeline(\n",
        "    \"fill-mask\",\n",
        "    model=PATH+'model',\n",
        "    tokenizer=PATH+'model'\n",
        ")\n",
        ""
      ],
      "metadata": {
        "id": "rp8GVcImCElu"
      },
      "execution_count": 30,
      "outputs": []
    },
    {
      "cell_type": "code",
      "source": [
        "pergunta = 'sócrates é uma <mask>'\n",
        "fill_mask(pergunta)"
      ],
      "metadata": {
        "colab": {
          "base_uri": "https://localhost:8080/"
        },
        "id": "W7mnaDlrDA_9",
        "outputId": "b74b3a91-3c38-42dd-cf94-203507be725e"
      },
      "execution_count": 37,
      "outputs": [
        {
          "output_type": "execute_result",
          "data": {
            "text/plain": [
              "[{'score': 0.07704049348831177,\n",
              "  'token': 725,\n",
              "  'token_str': ' sócrates',\n",
              "  'sequence': 'sócrates é uma sócrates'},\n",
              " {'score': 0.04383159801363945,\n",
              "  'token': 16,\n",
              "  'token_str': ',',\n",
              "  'sequence': 'sócrates é uma,'},\n",
              " {'score': 0.03124419040977955,\n",
              "  'token': 18,\n",
              "  'token_str': '.',\n",
              "  'sequence': 'sócrates é uma.'},\n",
              " {'score': 0.023870207369327545,\n",
              "  'token': 6,\n",
              "  'token_str': '\"',\n",
              "  'sequence': 'sócrates é uma\"'},\n",
              " {'score': 0.01627921685576439,\n",
              "  'token': 1602,\n",
              "  'token_str': ' causalidade',\n",
              "  'sequence': 'sócrates é uma causalidade'}]"
            ]
          },
          "metadata": {},
          "execution_count": 37
        }
      ]
    }
  ]
}